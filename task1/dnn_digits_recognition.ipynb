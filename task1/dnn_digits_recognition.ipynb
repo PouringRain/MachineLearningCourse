{
 "cells": [
  {
   "cell_type": "code",
   "execution_count": 1,
   "metadata": {},
   "outputs": [],
   "source": [
    "# -*- coding:utf-8 -*-\n",
    "# handwritten digits recognition\n",
    "# Data: MINIST\n",
    "# size: 28*28  train-->6w test-->1w\n",
    "\n",
    "import torch\n",
    "import torchvision\n",
    "import torchvision.transforms as transforms\n",
    "import torch.nn as nn\n",
    "import torch.utils.data as Data\n",
    "import torch.optim as optim"
   ]
  },
  {
   "cell_type": "code",
   "execution_count": 2,
   "metadata": {},
   "outputs": [],
   "source": [
    "# 超参数\n",
    "epoches = 3\n",
    "n_classes = 10\n",
    "batch_size = 64\n",
    "lr = 0.001"
   ]
  },
  {
   "cell_type": "code",
   "execution_count": 3,
   "metadata": {},
   "outputs": [],
   "source": [
    "device = torch.device('cuda' if torch.cuda.is_available() else 'cpu')"
   ]
  },
  {
   "cell_type": "code",
   "execution_count": 4,
   "metadata": {},
   "outputs": [],
   "source": [
    "# get train&test data\n",
    "train_dataset = torchvision.datasets.MNIST('/Users/jsheng/PycharmProjects/IJCAI18/assignment1/data/', train=True, transform=transforms.ToTensor(), download=True)\n",
    "test_dataset = torchvision.datasets.MNIST('/Users/jsheng/PycharmProjects/IJCAI18/assignment1/data/', train=False, transform=transforms.ToTensor(), download=False)\n",
    "train = Data.DataLoader(dataset=train_dataset, batch_size=batch_size, shuffle=True, num_workers=5)\n",
    "test = Data.DataLoader(dataset=test_dataset, batch_size=batch_size, shuffle=False, num_workers=5)"
   ]
  },
  {
   "cell_type": "code",
   "execution_count": 5,
   "metadata": {},
   "outputs": [
    {
     "name": "stdout",
     "output_type": "stream",
     "text": [
      "ClassifyDNN(\n",
      "  (linear1): Sequential(\n",
      "    (0): Linear(in_features=784, out_features=300, bias=True)\n",
      "    (1): BatchNorm1d(300, eps=1e-05, momentum=0.1, affine=True, track_running_stats=True)\n",
      "    (2): ReLU()\n",
      "  )\n",
      "  (linear2): Sequential(\n",
      "    (0): Linear(in_features=300, out_features=100, bias=True)\n",
      "    (1): BatchNorm1d(100, eps=1e-05, momentum=0.1, affine=True, track_running_stats=True)\n",
      "    (2): ReLU()\n",
      "  )\n",
      "  (linear3): Sequential(\n",
      "    (0): Linear(in_features=100, out_features=10, bias=True)\n",
      "  )\n",
      "  (ls): Softmax()\n",
      ")\n"
     ]
    }
   ],
   "source": [
    "# dnn model\n",
    "# dnn\n",
    "class ClassifyDNN(nn.Module):\n",
    "    def __init__(self, n_classes):\n",
    "        super(ClassifyDNN, self).__init__()\n",
    "        self.linear1 = nn.Sequential(\n",
    "            nn.Linear(28*28, 300),\n",
    "            nn.BatchNorm1d(300),\n",
    "            nn.ReLU()\n",
    "        )\n",
    "        self.linear2 = nn.Sequential(\n",
    "            nn.Linear(300, 100),\n",
    "            nn.BatchNorm1d(100),\n",
    "            nn.ReLU()\n",
    "        )\n",
    "        self.linear3 = nn.Sequential(\n",
    "            nn.Linear(100, n_classes)\n",
    "        )\n",
    "        self.ls = nn.Softmax()\n",
    "    def forward(self, x):\n",
    "        x = self.linear1(x.view(x.size(0), -1))\n",
    "        x = self.linear2(x)\n",
    "        x = self.linear3(x)\n",
    "        out = self.ls(x)\n",
    "\n",
    "        return out\n",
    "\n",
    "classify = ClassifyDNN(n_classes).to(device)\n",
    "print(classify)"
   ]
  },
  {
   "cell_type": "code",
   "execution_count": 6,
   "metadata": {},
   "outputs": [],
   "source": [
    "# 损失函数，参数优化算法\n",
    "criterion = torch.nn.CrossEntropyLoss()  # 交叉熵\n",
    "optimizer = optim.Adam(params=classify.parameters(), lr=lr)"
   ]
  },
  {
   "cell_type": "code",
   "execution_count": 7,
   "metadata": {},
   "outputs": [
    {
     "name": "stderr",
     "output_type": "stream",
     "text": [
      "/anaconda3/lib/python3.6/site-packages/ipykernel_launcher.py:24: UserWarning: Implicit dimension choice for softmax has been deprecated. Change the call to include dim=X as an argument.\n"
     ]
    },
    {
     "name": "stdout",
     "output_type": "stream",
     "text": [
      "[1|3] step:100/938 loss:1.6955\n",
      "[1|3] step:200/938 loss:1.5730\n",
      "[1|3] step:300/938 loss:1.5830\n",
      "[1|3] step:400/938 loss:1.5356\n",
      "[1|3] step:500/938 loss:1.5541\n",
      "[1|3] step:600/938 loss:1.5119\n",
      "[1|3] step:700/938 loss:1.5333\n",
      "[1|3] step:800/938 loss:1.5398\n",
      "[1|3] step:900/938 loss:1.5392\n",
      "[2|3] step:100/938 loss:1.4768\n",
      "[2|3] step:200/938 loss:1.5621\n",
      "[2|3] step:300/938 loss:1.5360\n",
      "[2|3] step:400/938 loss:1.5706\n",
      "[2|3] step:500/938 loss:1.5543\n",
      "[2|3] step:600/938 loss:1.5393\n",
      "[2|3] step:700/938 loss:1.5657\n",
      "[2|3] step:800/938 loss:1.5847\n",
      "[2|3] step:900/938 loss:1.5393\n",
      "[3|3] step:100/938 loss:1.5080\n",
      "[3|3] step:200/938 loss:1.5551\n",
      "[3|3] step:300/938 loss:1.5705\n",
      "[3|3] step:400/938 loss:1.5549\n",
      "[3|3] step:500/938 loss:1.5393\n",
      "[3|3] step:600/938 loss:1.5393\n",
      "[3|3] step:700/938 loss:1.5705\n",
      "[3|3] step:800/938 loss:1.5642\n",
      "[3|3] step:900/938 loss:1.5237\n"
     ]
    }
   ],
   "source": [
    "# train\n",
    "total_step = len(train)\n",
    "for epoch in range(epoches):\n",
    "    for i, (images, targets) in enumerate(train):\n",
    "        images = images.to(device)\n",
    "        targets = targets.to(device)\n",
    "        preds = classify(images)\n",
    "\n",
    "        loss = criterion(preds, targets)\n",
    "        loss.backward()\n",
    "        criterion.zero_grad()\n",
    "        optimizer.step()\n",
    "\n",
    "        if (i+1)%100==0:\n",
    "            print('[{}|{}] step:{}/{} loss:{:.4f}'.format(epoch+1, epoches, i+1, total_step, loss.item()))"
   ]
  },
  {
   "cell_type": "code",
   "execution_count": 8,
   "metadata": {},
   "outputs": [
    {
     "name": "stderr",
     "output_type": "stream",
     "text": [
      "/anaconda3/lib/python3.6/site-packages/ipykernel_launcher.py:24: UserWarning: Implicit dimension choice for softmax has been deprecated. Change the call to include dim=X as an argument.\n"
     ]
    },
    {
     "name": "stdout",
     "output_type": "stream",
     "text": [
      "in 1w test_data correct rate = 93.12\n"
     ]
    }
   ],
   "source": [
    "# test\n",
    "classify.eval()\n",
    "with torch.no_grad():\n",
    "    correct = 0\n",
    "    total = 0\n",
    "    for images, labels in test:\n",
    "        images = images.to(device)\n",
    "        labels = labels.to(device)\n",
    "        outputs = classify(images)\n",
    "        _, maxIndexes = torch.max(outputs, 1)\n",
    "        correct += (maxIndexes==labels).sum().item()\n",
    "        total += labels.size(0)\n",
    "\n",
    "    print('in 1w test_data correct rate = {:.2f}'.format((correct/total)*100))"
   ]
  },
  {
   "cell_type": "code",
   "execution_count": 9,
   "metadata": {},
   "outputs": [],
   "source": [
    "# save model\n",
    "torch.save(classify.state_dict(), '/Users/jsheng/PycharmProjects/IJCAI18/assignment1/model/dnn_classify.pt')"
   ]
  },
  {
   "cell_type": "code",
   "execution_count": 10,
   "metadata": {},
   "outputs": [
    {
     "name": "stdout",
     "output_type": "stream",
     "text": [
      "done\n"
     ]
    }
   ],
   "source": [
    "print('done')"
   ]
  },
  {
   "cell_type": "code",
   "execution_count": null,
   "metadata": {},
   "outputs": [],
   "source": []
  }
 ],
 "metadata": {
  "kernelspec": {
   "display_name": "Python 3",
   "language": "python",
   "name": "python3"
  },
  "language_info": {
   "codemirror_mode": {
    "name": "ipython",
    "version": 3
   },
   "file_extension": ".py",
   "mimetype": "text/x-python",
   "name": "python",
   "nbconvert_exporter": "python",
   "pygments_lexer": "ipython3",
   "version": "3.6.4"
  }
 },
 "nbformat": 4,
 "nbformat_minor": 2
}
