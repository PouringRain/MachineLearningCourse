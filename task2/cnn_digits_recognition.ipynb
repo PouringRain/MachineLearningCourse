{
 "cells": [
  {
   "cell_type": "code",
   "execution_count": 14,
   "metadata": {},
   "outputs": [],
   "source": [
    "# -*- coding:utf-8 -*-\n",
    "# handwritten digits recognition\n",
    "# Data: MINIST\n",
    "# size: 28*28  train-->6w test-->1w\n",
    "\n",
    "import torch\n",
    "import torchvision\n",
    "import torchvision.transforms as transforms\n",
    "import torch.nn as nn\n",
    "import torch.utils.data as Data\n",
    "import torch.optim as optim\n",
    "import pandas as pd\n",
    "import matplotlib.pyplot as plt"
   ]
  },
  {
   "cell_type": "code",
   "execution_count": 15,
   "metadata": {},
   "outputs": [],
   "source": [
    "# 超参数\n",
    "epoches = 4\n",
    "n_classes = 10\n",
    "batch_size = 100\n",
    "lr = 0.001"
   ]
  },
  {
   "cell_type": "code",
   "execution_count": 16,
   "metadata": {},
   "outputs": [],
   "source": [
    "train_curve = []\n",
    "device = torch.device('cuda' if torch.cuda.is_available() else 'cpu')"
   ]
  },
  {
   "cell_type": "code",
   "execution_count": 17,
   "metadata": {},
   "outputs": [],
   "source": [
    "# 得到 训练数据&测试数据 \n",
    "# 调用torch中的torchvision得到MNIST数据集\n",
    "train_dataset = torchvision.datasets.MNIST('/Users/jsheng/PycharmProjects/IJCAI18/assignment1/data/', train=True, transform=transforms.ToTensor(), download=True)\n",
    "test_dataset = torchvision.datasets.MNIST('/Users/jsheng/PycharmProjects/IJCAI18/assignment1/data/', train=False, transform=transforms.ToTensor(), download=False)\n",
    "train = Data.DataLoader(dataset=train_dataset, batch_size=batch_size, shuffle=True, num_workers=5)\n",
    "test = Data.DataLoader(dataset=test_dataset, batch_size=batch_size, shuffle=False, num_workers=5)"
   ]
  },
  {
   "cell_type": "code",
   "execution_count": 18,
   "metadata": {},
   "outputs": [
    {
     "name": "stdout",
     "output_type": "stream",
     "text": [
      "ClassifyCNN(\n",
      "  (cnn1): Sequential(\n",
      "    (0): Conv2d(1, 16, kernel_size=(5, 5), stride=(1, 1), padding=(2, 2))\n",
      "    (1): BatchNorm2d(16, eps=1e-05, momentum=0.1, affine=True, track_running_stats=True)\n",
      "    (2): ReLU()\n",
      "    (3): MaxPool2d(kernel_size=2, stride=2, padding=0, dilation=1, ceil_mode=False)\n",
      "  )\n",
      "  (cnn2): Sequential(\n",
      "    (0): Conv2d(16, 32, kernel_size=(5, 5), stride=(1, 1), padding=(2, 2))\n",
      "    (1): BatchNorm2d(32, eps=1e-05, momentum=0.1, affine=True, track_running_stats=True)\n",
      "    (2): ReLU()\n",
      "    (3): MaxPool2d(kernel_size=2, stride=2, padding=0, dilation=1, ceil_mode=False)\n",
      "  )\n",
      "  (dropout): Dropout2d(p=0.5)\n",
      "  (fc): Linear(in_features=1568, out_features=10, bias=True)\n",
      ")\n"
     ]
    }
   ],
   "source": [
    "# cnn\n",
    "class ClassifyCNN(nn.Module):\n",
    "    def __init__(self, n_classes):\n",
    "        super(ClassifyCNN, self).__init__()\n",
    "        self.cnn1 = nn.Sequential(\n",
    "            nn.Conv2d(\n",
    "                in_channels=1,\n",
    "                out_channels=16,\n",
    "                kernel_size=5,\n",
    "                stride=1,\n",
    "                padding=2\n",
    "            ),  # 16*28*28\n",
    "            nn.BatchNorm2d(16),\n",
    "            nn.ReLU(),\n",
    "            nn.MaxPool2d(\n",
    "                kernel_size=2,\n",
    "                stride=2\n",
    "            )  # 16*14*14\n",
    "        )\n",
    "        self.cnn2 = nn.Sequential(\n",
    "            nn.Conv2d(\n",
    "                in_channels=16,\n",
    "                out_channels=32,\n",
    "                kernel_size=5,\n",
    "                stride=1,\n",
    "                padding=2\n",
    "            ),  # 32*14*14\n",
    "            nn.BatchNorm2d(32),\n",
    "            nn.ReLU(),\n",
    "            nn.MaxPool2d(\n",
    "                kernel_size=2,\n",
    "                stride=2\n",
    "            )  # 32*7*7\n",
    "        )\n",
    "        self.dropout = nn.Dropout2d()\n",
    "        self.fc = nn.Linear(in_features=7*7*32, out_features=n_classes)\n",
    "\n",
    "    def forward(self, x):\n",
    "        x = self.cnn1(x)\n",
    "        x = self.cnn2(x)\n",
    "        x = self.dropout(x)\n",
    "        out = self.fc(x.view(x.size(0), -1))\n",
    "\n",
    "        return out\n",
    "\n",
    "classify = ClassifyCNN(n_classes).to(device)\n",
    "print(classify) # 打印模型结构"
   ]
  },
  {
   "cell_type": "code",
   "execution_count": 19,
   "metadata": {},
   "outputs": [],
   "source": [
    "# 损失函数和优化方法\n",
    "criterion = torch.nn.CrossEntropyLoss()  # 交叉熵\n",
    "optimizer = optim.Adam(params=classify.parameters(), lr=lr)"
   ]
  },
  {
   "cell_type": "code",
   "execution_count": 20,
   "metadata": {},
   "outputs": [
    {
     "name": "stdout",
     "output_type": "stream",
     "text": [
      "[1|4] step:100/600 loss:3.89\n",
      "[1|4] step:200/600 loss:1.72\n",
      "[1|4] step:300/600 loss:0.98\n",
      "[1|4] step:400/600 loss:0.71\n",
      "[1|4] step:500/600 loss:0.92\n",
      "[1|4] step:600/600 loss:0.68\n",
      "[2|4] step:100/600 loss:0.55\n",
      "[2|4] step:200/600 loss:0.65\n",
      "[2|4] step:300/600 loss:0.31\n",
      "[2|4] step:400/600 loss:0.42\n",
      "[2|4] step:500/600 loss:0.65\n",
      "[2|4] step:600/600 loss:0.21\n",
      "[3|4] step:100/600 loss:0.48\n",
      "[3|4] step:200/600 loss:0.59\n",
      "[3|4] step:300/600 loss:0.53\n",
      "[3|4] step:400/600 loss:0.60\n",
      "[3|4] step:500/600 loss:0.56\n",
      "[3|4] step:600/600 loss:0.70\n",
      "[4|4] step:100/600 loss:0.47\n",
      "[4|4] step:200/600 loss:0.47\n",
      "[4|4] step:300/600 loss:0.78\n",
      "[4|4] step:400/600 loss:0.53\n",
      "[4|4] step:500/600 loss:0.51\n",
      "[4|4] step:600/600 loss:0.93\n"
     ]
    }
   ],
   "source": [
    "# train\n",
    "total_step = len(train)\n",
    "sum_loss = 0\n",
    "for epoch in range(epoches):\n",
    "    for i, (images, targets) in enumerate(train):\n",
    "        images = images.to(device)\n",
    "        targets = targets.to(device)\n",
    "        preds = classify(images)\n",
    "\n",
    "        loss = criterion(preds, targets)\n",
    "        sum_loss += loss.item()\n",
    "        loss.backward()\n",
    "        criterion.zero_grad()\n",
    "        optimizer.step()\n",
    "        if (i+1)%100==0:\n",
    "            print('[{}|{}] step:{}/{} loss:{:.2f}'.format(epoch+1, epoches, i+1, total_step, loss.item()))\n",
    "    train_curve.append(sum_loss)\n",
    "    sum_loss = 0"
   ]
  },
  {
   "cell_type": "code",
   "execution_count": 21,
   "metadata": {},
   "outputs": [
    {
     "name": "stdout",
     "output_type": "stream",
     "text": [
      "in 1w test_data correct rate = 94.4300\n"
     ]
    }
   ],
   "source": [
    "# 测试模式\n",
    "classify.eval()\n",
    "with torch.no_grad():\n",
    "    correct = 0\n",
    "    total = 0\n",
    "    for images, labels in test:\n",
    "        images = images.to(device)\n",
    "        labels = labels.to(device)\n",
    "        outputs = classify(images)\n",
    "        _, maxIndexes = torch.max(outputs, 1)\n",
    "        correct += (maxIndexes==labels).sum().item()\n",
    "        total += labels.size(0)\n",
    "\n",
    "    print('in 1w test_data correct rate = {:.4f}'.format((correct/total)*100))"
   ]
  },
  {
   "cell_type": "code",
   "execution_count": 22,
   "metadata": {},
   "outputs": [],
   "source": [
    "torch.save(classify.state_dict(), '/Users/jsheng/PycharmProjects/IJCAI18/assignment1/model/cnn_classify.pt') # 模型保存"
   ]
  },
  {
   "cell_type": "code",
   "execution_count": 23,
   "metadata": {},
   "outputs": [
    {
     "data": {
      "text/plain": [
       "<matplotlib.axes._subplots.AxesSubplot at 0x1186e34a8>"
      ]
     },
     "execution_count": 23,
     "metadata": {},
     "output_type": "execute_result"
    },
    {
     "data": {
      "image/png": "[encoded data removed]",
      "text/plain": [
       "<matplotlib.figure.Figure at 0x11867fb00>"
      ]
     },
     "metadata": {},
     "output_type": "display_data"
    }
   ],
   "source": [
    "pd.DataFrame(train_curve).plot() # loss曲线"
   ]
  },
  {
   "cell_type": "code",
   "execution_count": 24,
   "metadata": {},
   "outputs": [
    {
     "name": "stdout",
     "output_type": "stream",
     "text": [
      "done!\n"
     ]
    }
   ],
   "source": [
    "print('done!')"
   ]
  },
  {
   "cell_type": "code",
   "execution_count": null,
   "metadata": {},
   "outputs": [],
   "source": []
  }
 ],
 "metadata": {
  "kernelspec": {
   "display_name": "Python 3",
   "language": "python",
   "name": "python3"
  },
  "language_info": {
   "codemirror_mode": {
    "name": "ipython",
    "version": 3
   },
   "file_extension": ".py",
   "mimetype": "text/x-python",
   "name": "python",
   "nbconvert_exporter": "python",
   "pygments_lexer": "ipython3",
   "version": "3.6.4"
  }
 },
 "nbformat": 4,
 "nbformat_minor": 2
}
