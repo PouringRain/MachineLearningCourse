{
 "cells": [
  {
   "cell_type": "code",
   "execution_count": 1,
   "metadata": {},
   "outputs": [],
   "source": [
    "#特征工程&模型构建训练\n",
    "import numpy as np\n",
    "import pandas as pd\n",
    "from datetime import datetime\n",
    "import warnings\n",
    "pd.options.mode.chained_assignment = None\n",
    "warnings.filterwarnings(\"ignore\")"
   ]
  },
  {
   "cell_type": "code",
   "execution_count": 2,
   "metadata": {},
   "outputs": [],
   "source": [
    "# 读入data\n",
    "df = pd.read_csv('/Users/jsheng/Downloads/Bike-Sharing-Dataset/hour.csv') # based on hour data"
   ]
  },
  {
   "cell_type": "code",
   "execution_count": 3,
   "metadata": {},
   "outputs": [
    {
     "data": {
      "text/html": [
       "<div>\n",
       "<style scoped>\n",
       "    .dataframe tbody tr th:only-of-type {\n",
       "        vertical-align: middle;\n",
       "    }\n",
       "\n",
       "    .dataframe tbody tr th {\n",
       "        vertical-align: top;\n",
       "    }\n",
       "\n",
       "    .dataframe thead th {\n",
       "        text-align: right;\n",
       "    }\n",
       "</style>\n",
       "<table border=\"1\" class=\"dataframe\">\n",
       "  <thead>\n",
       "    <tr style=\"text-align: right;\">\n",
       "      <th></th>\n",
       "      <th>yr</th>\n",
       "      <th>holiday</th>\n",
       "      <th>workingday</th>\n",
       "      <th>temp</th>\n",
       "      <th>atemp</th>\n",
       "      <th>hum</th>\n",
       "      <th>windspeed</th>\n",
       "      <th>cnt</th>\n",
       "      <th>mnth_1</th>\n",
       "      <th>mnth_2</th>\n",
       "      <th>...</th>\n",
       "      <th>season_2</th>\n",
       "      <th>season_3</th>\n",
       "      <th>season_4</th>\n",
       "      <th>weekday_0</th>\n",
       "      <th>weekday_1</th>\n",
       "      <th>weekday_2</th>\n",
       "      <th>weekday_3</th>\n",
       "      <th>weekday_4</th>\n",
       "      <th>weekday_5</th>\n",
       "      <th>weekday_6</th>\n",
       "    </tr>\n",
       "  </thead>\n",
       "  <tbody>\n",
       "    <tr>\n",
       "      <th>0</th>\n",
       "      <td>0</td>\n",
       "      <td>0</td>\n",
       "      <td>0</td>\n",
       "      <td>0.24</td>\n",
       "      <td>0.2879</td>\n",
       "      <td>0.81</td>\n",
       "      <td>0.0</td>\n",
       "      <td>16</td>\n",
       "      <td>1</td>\n",
       "      <td>0</td>\n",
       "      <td>...</td>\n",
       "      <td>0</td>\n",
       "      <td>0</td>\n",
       "      <td>0</td>\n",
       "      <td>0</td>\n",
       "      <td>0</td>\n",
       "      <td>0</td>\n",
       "      <td>0</td>\n",
       "      <td>0</td>\n",
       "      <td>0</td>\n",
       "      <td>1</td>\n",
       "    </tr>\n",
       "    <tr>\n",
       "      <th>1</th>\n",
       "      <td>0</td>\n",
       "      <td>0</td>\n",
       "      <td>0</td>\n",
       "      <td>0.22</td>\n",
       "      <td>0.2727</td>\n",
       "      <td>0.80</td>\n",
       "      <td>0.0</td>\n",
       "      <td>40</td>\n",
       "      <td>1</td>\n",
       "      <td>0</td>\n",
       "      <td>...</td>\n",
       "      <td>0</td>\n",
       "      <td>0</td>\n",
       "      <td>0</td>\n",
       "      <td>0</td>\n",
       "      <td>0</td>\n",
       "      <td>0</td>\n",
       "      <td>0</td>\n",
       "      <td>0</td>\n",
       "      <td>0</td>\n",
       "      <td>1</td>\n",
       "    </tr>\n",
       "    <tr>\n",
       "      <th>2</th>\n",
       "      <td>0</td>\n",
       "      <td>0</td>\n",
       "      <td>0</td>\n",
       "      <td>0.22</td>\n",
       "      <td>0.2727</td>\n",
       "      <td>0.80</td>\n",
       "      <td>0.0</td>\n",
       "      <td>32</td>\n",
       "      <td>1</td>\n",
       "      <td>0</td>\n",
       "      <td>...</td>\n",
       "      <td>0</td>\n",
       "      <td>0</td>\n",
       "      <td>0</td>\n",
       "      <td>0</td>\n",
       "      <td>0</td>\n",
       "      <td>0</td>\n",
       "      <td>0</td>\n",
       "      <td>0</td>\n",
       "      <td>0</td>\n",
       "      <td>1</td>\n",
       "    </tr>\n",
       "    <tr>\n",
       "      <th>3</th>\n",
       "      <td>0</td>\n",
       "      <td>0</td>\n",
       "      <td>0</td>\n",
       "      <td>0.24</td>\n",
       "      <td>0.2879</td>\n",
       "      <td>0.75</td>\n",
       "      <td>0.0</td>\n",
       "      <td>13</td>\n",
       "      <td>1</td>\n",
       "      <td>0</td>\n",
       "      <td>...</td>\n",
       "      <td>0</td>\n",
       "      <td>0</td>\n",
       "      <td>0</td>\n",
       "      <td>0</td>\n",
       "      <td>0</td>\n",
       "      <td>0</td>\n",
       "      <td>0</td>\n",
       "      <td>0</td>\n",
       "      <td>0</td>\n",
       "      <td>1</td>\n",
       "    </tr>\n",
       "    <tr>\n",
       "      <th>4</th>\n",
       "      <td>0</td>\n",
       "      <td>0</td>\n",
       "      <td>0</td>\n",
       "      <td>0.24</td>\n",
       "      <td>0.2879</td>\n",
       "      <td>0.75</td>\n",
       "      <td>0.0</td>\n",
       "      <td>1</td>\n",
       "      <td>1</td>\n",
       "      <td>0</td>\n",
       "      <td>...</td>\n",
       "      <td>0</td>\n",
       "      <td>0</td>\n",
       "      <td>0</td>\n",
       "      <td>0</td>\n",
       "      <td>0</td>\n",
       "      <td>0</td>\n",
       "      <td>0</td>\n",
       "      <td>0</td>\n",
       "      <td>0</td>\n",
       "      <td>1</td>\n",
       "    </tr>\n",
       "  </tbody>\n",
       "</table>\n",
       "<p>5 rows × 59 columns</p>\n",
       "</div>"
      ],
      "text/plain": [
       "   yr  holiday  workingday  temp   atemp   hum  windspeed  cnt  mnth_1  \\\n",
       "0   0        0           0  0.24  0.2879  0.81        0.0   16       1   \n",
       "1   0        0           0  0.22  0.2727  0.80        0.0   40       1   \n",
       "2   0        0           0  0.22  0.2727  0.80        0.0   32       1   \n",
       "3   0        0           0  0.24  0.2879  0.75        0.0   13       1   \n",
       "4   0        0           0  0.24  0.2879  0.75        0.0    1       1   \n",
       "\n",
       "   mnth_2    ...      season_2  season_3  season_4  weekday_0  weekday_1  \\\n",
       "0       0    ...             0         0         0          0          0   \n",
       "1       0    ...             0         0         0          0          0   \n",
       "2       0    ...             0         0         0          0          0   \n",
       "3       0    ...             0         0         0          0          0   \n",
       "4       0    ...             0         0         0          0          0   \n",
       "\n",
       "   weekday_2  weekday_3  weekday_4  weekday_5  weekday_6  \n",
       "0          0          0          0          0          1  \n",
       "1          0          0          0          0          1  \n",
       "2          0          0          0          0          1  \n",
       "3          0          0          0          0          1  \n",
       "4          0          0          0          0          1  \n",
       "\n",
       "[5 rows x 59 columns]"
      ]
     },
     "execution_count": 3,
     "metadata": {},
     "output_type": "execute_result"
    }
   ],
   "source": [
    "# 特征工程\n",
    "# 对dropFeatrues的四个维度进行one-hot\n",
    "\n",
    "df_mnth = pd.get_dummies(df['mnth'], prefix='mnth')\n",
    "df_hr = pd.get_dummies(df['hr'], prefix='hr')\n",
    "df_weathersit = pd.get_dummies(df['weathersit'], prefix='weathersit')\n",
    "df_season = pd.get_dummies(df['season'], prefix='season')\n",
    "df_weekday = pd.get_dummies(df['weekday'], prefix='weekday')\n",
    "\n",
    "df = df.join(df_mnth)\n",
    "df = df.join(df_hr)                    \n",
    "df = df.join(df_weathersit)\n",
    "df = df.join(df_season)\n",
    "df = df.join(df_weekday)\n",
    "\n",
    "dropFeatures = [\"instant\", \"dteday\", \"registered\", 'casual', 'season', 'mnth', 'hr', 'weathersit', 'weekday']\n",
    "df = df.drop(dropFeatures, axis=1)\n",
    "\n",
    "df.head()"
   ]
  },
  {
   "cell_type": "code",
   "execution_count": 4,
   "metadata": {},
   "outputs": [
    {
     "data": {
      "text/plain": [
       "Index(['yr', 'holiday', 'workingday', 'temp', 'atemp', 'hum', 'windspeed',\n",
       "       'cnt', 'mnth_1', 'mnth_2', 'mnth_3', 'mnth_4', 'mnth_5', 'mnth_6',\n",
       "       'mnth_7', 'mnth_8', 'mnth_9', 'mnth_10', 'mnth_11', 'mnth_12', 'hr_0',\n",
       "       'hr_1', 'hr_2', 'hr_3', 'hr_4', 'hr_5', 'hr_6', 'hr_7', 'hr_8', 'hr_9',\n",
       "       'hr_10', 'hr_11', 'hr_12', 'hr_13', 'hr_14', 'hr_15', 'hr_16', 'hr_17',\n",
       "       'hr_18', 'hr_19', 'hr_20', 'hr_21', 'hr_22', 'hr_23', 'weathersit_1',\n",
       "       'weathersit_2', 'weathersit_3', 'weathersit_4', 'season_1', 'season_2',\n",
       "       'season_3', 'season_4', 'weekday_0', 'weekday_1', 'weekday_2',\n",
       "       'weekday_3', 'weekday_4', 'weekday_5', 'weekday_6'],\n",
       "      dtype='object')"
      ]
     },
     "execution_count": 4,
     "metadata": {},
     "output_type": "execute_result"
    }
   ],
   "source": [
    "df.columns # 打印特征"
   ]
  },
  {
   "cell_type": "code",
   "execution_count": 5,
   "metadata": {},
   "outputs": [],
   "source": [
    "# 填充一下windspeed缺失的问题,2180条数据windspeed==0,代码df[df['windspeed']==0] 查看\n",
    "# 填充方法，RF模型的预测值填充windspeed==0的数据\n",
    "from sklearn.ensemble import RandomForestRegressor\n",
    "data_wind_zero = df[df['windspeed']==0]\n",
    "data_wind_notzero = df[df['windspeed']!=0]\n",
    "rf_wind = RandomForestRegressor()\n",
    "wind_features = ['yr', 'holiday', 'workingday', 'temp', 'atemp', 'hum', 'windspeed',\n",
    "       'cnt', 'mnth_1', 'mnth_2', 'mnth_3', 'mnth_4', 'mnth_5', 'mnth_6',\n",
    "       'mnth_7', 'mnth_8', 'mnth_9', 'mnth_10', 'mnth_11', 'mnth_12', 'hr_0',\n",
    "       'hr_1', 'hr_2', 'hr_3', 'hr_4', 'hr_5', 'hr_6', 'hr_7', 'hr_8', 'hr_9',\n",
    "       'hr_10', 'hr_11', 'hr_12', 'hr_13', 'hr_14', 'hr_15', 'hr_16', 'hr_17',\n",
    "       'hr_18', 'hr_19', 'hr_20', 'hr_21', 'hr_22', 'hr_23', 'weathersit_1',\n",
    "       'weathersit_2', 'weathersit_3', 'weathersit_4', 'season_1', 'season_2',\n",
    "       'season_3', 'season_4', 'weekday_0', 'weekday_1', 'weekday_2',\n",
    "       'weekday_3', 'weekday_4', 'weekday_5', 'weekday_6']\n",
    "rf_wind.fit(data_wind_notzero[wind_features], data_wind_notzero['windspeed'])\n",
    "wind_values = rf_wind.predict(X=data_wind_zero[wind_features])\n",
    "data_wind_zero['windspeed'] = wind_values\n",
    "df = data_wind_zero.append(data_wind_notzero)\n",
    "df.reset_index(inplace=True)\n",
    "df.drop('index', inplace=True, axis=1)"
   ]
  },
  {
   "cell_type": "code",
   "execution_count": 6,
   "metadata": {},
   "outputs": [
    {
     "data": {
      "text/plain": [
       "count    17379.000000\n",
       "mean         0.201337\n",
       "std          0.107585\n",
       "min          0.089600\n",
       "25%          0.104500\n",
       "50%          0.194000\n",
       "75%          0.253700\n",
       "max          0.850700\n",
       "Name: windspeed, dtype: float64"
      ]
     },
     "execution_count": 6,
     "metadata": {},
     "output_type": "execute_result"
    }
   ],
   "source": [
    "df['windspeed'].describe() # 已经没有为0的windspeed了"
   ]
  },
  {
   "cell_type": "code",
   "execution_count": 7,
   "metadata": {},
   "outputs": [],
   "source": [
    "# 构建 训练数据&测试数据\n",
    "from sklearn.model_selection import train_test_split\n",
    "x, y = df.ix[:,df.columns!='cnt'], df.ix[:,df.columns=='cnt']\n",
    "x_train, y_train, x_test, y_test = train_test_split(x, y, test_size=0.2) # 8:2 的比例划分数据集"
   ]
  },
  {
   "cell_type": "code",
   "execution_count": 8,
   "metadata": {},
   "outputs": [],
   "source": [
    "# 评估指标 RMSLE\n",
    "def rmsle(y, y_):\n",
    "    log1 = np.nan_to_num(np.array([np.log(v + 1) for v in y]))\n",
    "    log2 = np.nan_to_num(np.array([np.log(v + 1) for v in y_]))\n",
    "    calc = (log1 - log2) ** 2\n",
    "    return np.sqrt(np.mean(calc))"
   ]
  },
  {
   "cell_type": "code",
   "execution_count": 9,
   "metadata": {},
   "outputs": [
    {
     "name": "stdout",
     "output_type": "stream",
     "text": [
      "[[220.375]\n",
      " [ 18.   ]\n",
      " [230.375]\n",
      " ...\n",
      " [295.875]\n",
      " [173.   ]\n",
      " [-15.375]]\n",
      "rmsle Value For Ridge Regression:  1.1042911495627106\n"
     ]
    }
   ],
   "source": [
    "from sklearn.linear_model import LinearRegression,Ridge,Lasso\n",
    "from sklearn.model_selection import GridSearchCV\n",
    "from sklearn import metrics\n",
    "from sklearn.metrics import mean_squared_log_error\n",
    "pd.options.mode.chained_assignment = None\n",
    "# 线性回归模型\n",
    "# linear regression\n",
    "lr = LinearRegression()\n",
    "lr.fit(x_train, x_test)\n",
    "preds = lr.predict(y_train)\n",
    "print(preds)\n",
    "print(\"rmsle Value For Ridge Regression: \",rmsle(preds, y_test.values))"
   ]
  },
  {
   "cell_type": "code",
   "execution_count": 10,
   "metadata": {},
   "outputs": [
    {
     "name": "stdout",
     "output_type": "stream",
     "text": [
      "[[204.80461941]\n",
      " [ 35.78859939]\n",
      " [233.33232898]\n",
      " ...\n",
      " [285.12305858]\n",
      " [175.84531307]\n",
      " [ 11.46155777]]\n",
      "{'alpha': 100, 'max_iter': 3000}\n",
      "rmsle Value For Ridge Regression:  1.0714880917741527\n"
     ]
    }
   ],
   "source": [
    "# ridge 岭回归\n",
    "ridge_m_ = Ridge()\n",
    "ridge_params_ = {'max_iter':[3000],'alpha':[0.1, 1, 2, 3, 4, 10, 30,100,200,300,400,800,900,1000]}\n",
    "rmsle_scorer = metrics.make_scorer(rmsle, greater_is_better=False)\n",
    "# 网格搜索，超参数自动搜索\n",
    "grid_ridge_m = GridSearchCV(ridge_m_,\n",
    "                          ridge_params_,\n",
    "                          scoring = rmsle_scorer,\n",
    "                          cv=5)\n",
    "grid_ridge_m.fit(x_train.values, x_test.values)\n",
    "preds = grid_ridge_m.predict(X=y_train)\n",
    "print(preds)\n",
    "print(grid_ridge_m.best_params_)\n",
    "print(\"rmsle Value For Ridge Regression: \",rmsle(preds, y_test.values))"
   ]
  },
  {
   "cell_type": "code",
   "execution_count": 11,
   "metadata": {},
   "outputs": [
    {
     "name": "stdout",
     "output_type": "stream",
     "text": [
      "[133.69409609 178.56110859 239.22125659 ... 226.42391155 162.52466744\n",
      " 159.88953023]\n",
      "{'alpha': 10.0, 'max_iter': 3000}\n",
      "rmsle Value For Lasso Regression:  1.543475667153089\n"
     ]
    }
   ],
   "source": [
    "# Lasso \n",
    "lasso_m_ = Lasso()\n",
    "\n",
    "alpha  = 1/np.array([0.1, 1, 2, 3, 4, 10, 30,100,200,300])\n",
    "lasso_params_ = {'max_iter':[3000],'alpha':alpha}\n",
    "\n",
    "grid_lasso_m = GridSearchCV(lasso_m_,lasso_params_,scoring = rmsle_scorer,cv=5)\n",
    "grid_lasso_m.fit(x_train.values, x_test.values)\n",
    "preds = grid_lasso_m.predict(X=y_train)\n",
    "\n",
    "print(preds)\n",
    "print (grid_lasso_m.best_params_)\n",
    "print(\"rmsle Value For Lasso Regression: \",rmsle(preds, y_test.values))"
   ]
  },
  {
   "cell_type": "code",
   "execution_count": 16,
   "metadata": {},
   "outputs": [
    {
     "name": "stdout",
     "output_type": "stream",
     "text": [
      "[119.504  48.14  185.4   ... 293.864 175.19   17.064]\n",
      "rmsle Value For RF Regression:  1.697711134316645\n"
     ]
    }
   ],
   "source": [
    "# ensemble model\n",
    "# random forest 随机森林\n",
    "no_of_test=[500]\n",
    "params_dict={'n_estimators':no_of_test,'n_jobs':[-1],'max_features':[\"auto\",'sqrt','log2']}\n",
    "clf_rf=GridSearchCV(estimator=RandomForestRegressor(),param_grid=params_dict,scoring=rmsle_scorer)\n",
    "clf_rf.fit(x_train.values,x_test.values)\n",
    "preds = clf_rf.predict(y_train)\n",
    "print(preds)\n",
    "print(\"rmsle Value For RF Regression: \",rmsle(preds, y_test.values))"
   ]
  },
  {
   "cell_type": "code",
   "execution_count": 17,
   "metadata": {},
   "outputs": [
    {
     "name": "stdout",
     "output_type": "stream",
     "text": [
      "[108.37231991  18.93273    122.75864776 ... 428.17558622 131.45109955\n",
      "   9.50301055]\n",
      "rmsle Value For gbr Regression:  2.129158604145119\n"
     ]
    }
   ],
   "source": [
    "# ensemble model\n",
    "# GradientBoostingRegressor\n",
    "from sklearn.ensemble import GradientBoostingRegressor\n",
    "gb = GradientBoostingRegressor(n_estimators=4000,alpha=0.01)\n",
    "gb.fit(x_train, x_test)\n",
    "preds = gb.predict(y_train)\n",
    "print(preds)\n",
    "print(\"rmsle Value For gbr Regression: \",rmsle(preds, y_test.values))"
   ]
  },
  {
   "cell_type": "code",
   "execution_count": 18,
   "metadata": {},
   "outputs": [
    {
     "name": "stdout",
     "output_type": "stream",
     "text": [
      "[176.78632   28.549183 206.26033  ... 285.96466  137.93895   15.7596  ]\n",
      "rmsle Value For xgb Regression:  1.856336990888132\n"
     ]
    }
   ],
   "source": [
    "# xgboost\n",
    "from xgboost import XGBRegressor\n",
    "xgb = XGBRegressor()\n",
    "xgb.fit(x_train, x_test)\n",
    "preds = xgb.predict(y_train)\n",
    "print(preds)\n",
    "print(\"rmsle Value For xgb Regression: \",rmsle(preds, y_test.values))"
   ]
  },
  {
   "cell_type": "code",
   "execution_count": 19,
   "metadata": {},
   "outputs": [
    {
     "name": "stdout",
     "output_type": "stream",
     "text": [
      "done!\n"
     ]
    }
   ],
   "source": [
    "print('done!')"
   ]
  },
  {
   "cell_type": "code",
   "execution_count": null,
   "metadata": {},
   "outputs": [],
   "source": []
  }
 ],
 "metadata": {
  "kernelspec": {
   "display_name": "Python 3",
   "language": "python",
   "name": "python3"
  },
  "language_info": {
   "codemirror_mode": {
    "name": "ipython",
    "version": 3
   },
   "file_extension": ".py",
   "mimetype": "text/x-python",
   "name": "python",
   "nbconvert_exporter": "python",
   "pygments_lexer": "ipython3",
   "version": "3.6.4"
  }
 },
 "nbformat": 4,
 "nbformat_minor": 2
}
